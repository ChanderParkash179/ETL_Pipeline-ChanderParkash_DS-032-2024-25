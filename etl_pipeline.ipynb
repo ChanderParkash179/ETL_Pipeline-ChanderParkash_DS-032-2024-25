{
 "cells": [
  {
   "cell_type": "code",
   "execution_count": null,
   "id": "5ec1c18e",
   "metadata": {
    "vscode": {
     "languageId": "plaintext"
    }
   },
   "outputs": [],
   "source": [
    "# Install packages from requirements.txt\n",
    "!pip install -r requirements.txt"
   ]
  }
 ],
 "metadata": {
  "language_info": {
   "name": "python"
  }
 },
 "nbformat": 4,
 "nbformat_minor": 5
}
