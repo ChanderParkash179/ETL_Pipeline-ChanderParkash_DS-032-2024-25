{
 "cells": [
  {
   "cell_type": "code",
   "execution_count": null,
   "id": "5ec1c18e",
   "metadata": {
    "vscode": {
     "languageId": "plaintext"
    }
   },
   "outputs": [],
   "source": [
    "# Install packages from requirements.txt\n",
    "!pip install -r requirements.txt"
   ]
  },
  {
   "cell_type": "code",
   "execution_count": null,
   "id": "c1865e90",
   "metadata": {
    "vscode": {
     "languageId": "plaintext"
    }
   },
   "outputs": [],
   "source": [
    "import requests\n",
    "import pandas as pd\n",
    "import kagglehub\n",
    "from kagglehub import KaggleDatasetAdapter\n",
    "from pymongo import MongoClient\n",
    "import matplotlib.pyplot as plt\n",
    "import seaborn as sns\n",
    "import json"
   ]
  },
  {
   "cell_type": "code",
   "execution_count": null,
   "id": "b855408f",
   "metadata": {
    "vscode": {
     "languageId": "plaintext"
    }
   },
   "outputs": [],
   "source": [
    "import subprocess\n",
    "\n",
    "try:\n",
    "    result = subprocess.run([\"python3\", \"load_to_db.py\"], check=True, capture_output=True, text=True)\n",
    "    print(\"✅ Script executed successfully!\\n\")\n",
    "    print(result.stdout)\n",
    "except subprocess.CalledProcessError as e:\n",
    "    print(\"❌ Failed to run load_to_db.py\")\n",
    "    print(\"🔍 Error Output:\\n\", e.stderr)"
   ]
  }
 ],
 "metadata": {
  "language_info": {
   "name": "python"
  }
 },
 "nbformat": 4,
 "nbformat_minor": 5
}
